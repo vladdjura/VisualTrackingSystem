{
 "cells": [
  {
   "cell_type": "markdown",
   "id": "dcc9eeea",
   "metadata": {},
   "source": [
    "# Visual tracking system\n",
    "\n",
    "## 04 Data creation and monitoring"
   ]
  },
  {
   "cell_type": "code",
   "execution_count": 2,
   "id": "ffe5c8b1",
   "metadata": {},
   "outputs": [],
   "source": [
    "import json\n",
    "from models import Video\n",
    "from functions import show, gray, space_nums, space_ids, paths"
   ]
  },
  {
   "cell_type": "markdown",
   "id": "756145bb",
   "metadata": {},
   "source": [
    "### Video instance creation"
   ]
  },
  {
   "cell_type": "code",
   "execution_count": 3,
   "id": "832347ae",
   "metadata": {},
   "outputs": [
    {
     "name": "stdout",
     "output_type": "stream",
     "text": [
      "Number of frames: 613\n",
      "Image path > C:/Users/Vladislav/Desktop/Videos/12_2_2021 10_01_42 AM (UTC-05_00)_0068 (Converted).mov\n"
     ]
    }
   ],
   "source": [
    "# 11 - truck arives\n",
    "# 12 - person \n",
    "# 13 - pickup leaves\n",
    "# 17 - bus leaves\n",
    "video = Video(paths[17])\n",
    "#video.frame = 500\n",
    "video.variance = 1800"
   ]
  },
  {
   "cell_type": "markdown",
   "id": "79e75316",
   "metadata": {},
   "source": [
    "### Start writing json"
   ]
  },
  {
   "cell_type": "code",
   "execution_count": 4,
   "id": "ff934a5d",
   "metadata": {},
   "outputs": [
    {
     "data": {
      "text/plain": [
       "{1: 628.69274476271,\n",
       " 2: 2573.086262521927,\n",
       " 3: 688.4741844456503,\n",
       " 4: 460.5896980990256,\n",
       " 5: 563.4505417375327,\n",
       " 6: 2088.7266477514077,\n",
       " 7: 731.1268387548233,\n",
       " 8: 180.01803698650133,\n",
       " 9: 509.31765266140616,\n",
       " 10: 1904.1303987386354,\n",
       " 11: 5018.803730450502,\n",
       " 12: 288.94976360586287,\n",
       " 13: 567.9567471173548,\n",
       " 14: 237.3549534925561}"
      ]
     },
     "execution_count": 4,
     "metadata": {},
     "output_type": "execute_result"
    }
   ],
   "source": [
    "video.write(430,440)"
   ]
  },
  {
   "cell_type": "markdown",
   "id": "fdc7f520",
   "metadata": {},
   "source": [
    "### Simulating received requests for parking space tracking"
   ]
  },
  {
   "cell_type": "code",
   "execution_count": 6,
   "id": "9326f70c",
   "metadata": {},
   "outputs": [],
   "source": [
    "from credentials import account_sid, auth_token, my_cell, my_twilio \n",
    "from datetime import datetime\n",
    "import json\n",
    "import requests"
   ]
  },
  {
   "cell_type": "code",
   "execution_count": null,
   "id": "e336ed0d",
   "metadata": {},
   "outputs": [],
   "source": [
    "tracker = {'timestamp': [3, 'id_00001']}\n",
    "\n",
    "start = 400\n",
    "stop = 440\n",
    "\n",
    "video.tracker(tracker, start, stop)\n",
    "\n"
   ]
  }
 ],
 "metadata": {
  "kernelspec": {
   "display_name": "Python 3 (ipykernel)",
   "language": "python",
   "name": "python3"
  },
  "language_info": {
   "codemirror_mode": {
    "name": "ipython",
    "version": 3
   },
   "file_extension": ".py",
   "mimetype": "text/x-python",
   "name": "python",
   "nbconvert_exporter": "python",
   "pygments_lexer": "ipython3",
   "version": "3.9.10"
  }
 },
 "nbformat": 4,
 "nbformat_minor": 5
}
