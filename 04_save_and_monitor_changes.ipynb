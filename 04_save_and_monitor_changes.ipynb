{
 "cells": [
  {
   "cell_type": "markdown",
   "id": "dcc9eeea",
   "metadata": {},
   "source": [
    "# Visual tracking system\n",
    "\n",
    "## 04 Data creation and monitoring"
   ]
  },
  {
   "cell_type": "code",
   "execution_count": 6,
   "id": "ffe5c8b1",
   "metadata": {},
   "outputs": [],
   "source": [
    "import json\n",
    "from models import Video\n",
    "from functions import show, gray, space_nums, space_ids, paths"
   ]
  },
  {
   "cell_type": "markdown",
   "id": "756145bb",
   "metadata": {},
   "source": [
    "### Video instance creation"
   ]
  },
  {
   "cell_type": "code",
   "execution_count": 7,
   "id": "832347ae",
   "metadata": {},
   "outputs": [
    {
     "name": "stdout",
     "output_type": "stream",
     "text": [
      "Number of frames: 613\n",
      "Image path > C:/Users/Vladislav/Desktop/Videos/12_2_2021 10_01_42 AM (UTC-05_00)moving 0007.mov\n"
     ]
    }
   ],
   "source": [
    "# 11 - truck arives\n",
    "# 12 - person \n",
    "# 13 - pickup leaves\n",
    "# 17 - bus leaves\n",
    "video = Video(paths[2])\n",
    "#video.frame = 500\n",
    "video.variance = 1800"
   ]
  },
  {
   "cell_type": "markdown",
   "id": "fdc7f520",
   "metadata": {},
   "source": [
    "### Simulating received requests for parking space tracking"
   ]
  },
  {
   "cell_type": "code",
   "execution_count": 8,
   "id": "9326f70c",
   "metadata": {},
   "outputs": [],
   "source": [
    "from credentials import account_sid, auth_token, my_cell, my_twilio, admin_password, data_url, stoper_url\n",
    "from datetime import datetime\n",
    "import json\n",
    "import requests"
   ]
  },
  {
   "cell_type": "code",
   "execution_count": 9,
   "id": "5227c370",
   "metadata": {},
   "outputs": [
    {
     "name": "stdout",
     "output_type": "stream",
     "text": [
      "1800 584.7177924861936 2\n"
     ]
    },
    {
     "ename": "NameError",
     "evalue": "name 'i' is not defined",
     "output_type": "error",
     "traceback": [
      "\u001b[1;31m---------------------------------------------------------------------------\u001b[0m",
      "\u001b[1;31mNameError\u001b[0m                                 Traceback (most recent call last)",
      "\u001b[1;32mc:\\Users\\Vladislav\\master\\copy\\04_save_and_monitor_changes.ipynb Cell 7'\u001b[0m in \u001b[0;36m<module>\u001b[1;34m\u001b[0m\n\u001b[0;32m      <a href='vscode-notebook-cell:/c%3A/Users/Vladislav/master/copy/04_save_and_monitor_changes.ipynb#ch0000012?line=0'>1</a>\u001b[0m start \u001b[39m=\u001b[39m \u001b[39m420\u001b[39m\n\u001b[0;32m      <a href='vscode-notebook-cell:/c%3A/Users/Vladislav/master/copy/04_save_and_monitor_changes.ipynb#ch0000012?line=1'>2</a>\u001b[0m stop \u001b[39m=\u001b[39m \u001b[39m443\u001b[39m\n\u001b[1;32m----> <a href='vscode-notebook-cell:/c%3A/Users/Vladislav/master/copy/04_save_and_monitor_changes.ipynb#ch0000012?line=3'>4</a>\u001b[0m message \u001b[39m=\u001b[39m video\u001b[39m.\u001b[39;49mtracker(account_sid, auth_token, my_twilio, admin_password, data_url, stoper_url, start, stop)\n\u001b[0;32m      <a href='vscode-notebook-cell:/c%3A/Users/Vladislav/master/copy/04_save_and_monitor_changes.ipynb#ch0000012?line=5'>6</a>\u001b[0m \u001b[39mprint\u001b[39m(message)\n",
      "File \u001b[1;32mc:\\Users\\Vladislav\\master\\copy\\models.py:322\u001b[0m, in \u001b[0;36mVideo.tracker\u001b[1;34m(self, ac, at, tw, admin_password, data_url, stoper_url, start, stop)\u001b[0m\n\u001b[0;32m    <a href='file:///c%3A/Users/Vladislav/master/copy/models.py?line=319'>320</a>\u001b[0m \u001b[39mself\u001b[39m\u001b[39m.\u001b[39mmassage(ac, at, tw, phone, moment, space)\n\u001b[0;32m    <a href='file:///c%3A/Users/Vladislav/master/copy/models.py?line=320'>321</a>\u001b[0m \u001b[39mself\u001b[39m\u001b[39m.\u001b[39mstoper(admin_password, stoper_url, \u001b[39mid\u001b[39m)\n\u001b[1;32m--> <a href='file:///c%3A/Users/Vladislav/master/copy/models.py?line=321'>322</a>\u001b[0m \u001b[39mreturn\u001b[39;00m \u001b[39mf\u001b[39m\u001b[39m'\u001b[39m\u001b[39mVehicle has left parking space \u001b[39m\u001b[39m{\u001b[39;00mspace\u001b[39m}\u001b[39;00m\u001b[39m, at \u001b[39m\u001b[39m{\u001b[39;00mmoment\u001b[39m}\u001b[39;00m\u001b[39m. \u001b[39m\u001b[39m\\n\u001b[39;00m\u001b[39mFrame \u001b[39m\u001b[39m{\u001b[39;00mi\u001b[39m}\u001b[39;00m\u001b[39m'\u001b[39m\n",
      "\u001b[1;31mNameError\u001b[0m: name 'i' is not defined"
     ]
    }
   ],
   "source": [
    "start = 420\n",
    "stop = 443\n",
    "\n",
    "message = video.tracker(account_sid, auth_token, my_twilio, admin_password, data_url, stoper_url, start, stop)\n",
    "\n",
    "print(message)"
   ]
  },
  {
   "cell_type": "code",
   "execution_count": 5,
   "id": "e336ed0d",
   "metadata": {},
   "outputs": [
    {
     "name": "stdout",
     "output_type": "stream",
     "text": [
      "{'timestamp': [3, 'id_00001']}\n",
      "1800 1708.6970361409021 432\n",
      "Vehicle has left parking space 3, at 10:47:12. \n",
      "Frame 432\n"
     ]
    }
   ],
   "source": [
    "tracker = {'timestamp': [3, 'id_00001']}\n",
    "\n",
    "start = 420\n",
    "stop = 443\n",
    "\n",
    "message = video.tracker_fake(account_sid, auth_token, my_twilio, tracker, start, stop)\n",
    "\n",
    "print(message)\n",
    "\n"
   ]
  },
  {
   "cell_type": "code",
   "execution_count": 5,
   "id": "925fdb5b",
   "metadata": {},
   "outputs": [
    {
     "data": {
      "text/plain": [
       "1"
      ]
     },
     "execution_count": 5,
     "metadata": {},
     "output_type": "execute_result"
    }
   ],
   "source": [
    "video.play\n",
    "video.frame"
   ]
  },
  {
   "cell_type": "markdown",
   "id": "79e75316",
   "metadata": {},
   "source": [
    "### Start writing json"
   ]
  },
  {
   "cell_type": "code",
   "execution_count": null,
   "id": "fe3da8a6",
   "metadata": {},
   "outputs": [],
   "source": [
    "video.write(420,440)"
   ]
  },
  {
   "cell_type": "code",
   "execution_count": 5,
   "id": "4d8608cd",
   "metadata": {},
   "outputs": [],
   "source": [
    "frame = video.read"
   ]
  },
  {
   "cell_type": "code",
   "execution_count": 8,
   "id": "1bbc7022",
   "metadata": {},
   "outputs": [
    {
     "data": {
      "text/plain": [
       "(1140, 2024, 3)"
      ]
     },
     "execution_count": 8,
     "metadata": {},
     "output_type": "execute_result"
    }
   ],
   "source": [
    "frame.shape"
   ]
  }
 ],
 "metadata": {
  "kernelspec": {
   "display_name": "Python 3 (ipykernel)",
   "language": "python",
   "name": "python3"
  },
  "language_info": {
   "codemirror_mode": {
    "name": "ipython",
    "version": 3
   },
   "file_extension": ".py",
   "mimetype": "text/x-python",
   "name": "python",
   "nbconvert_exporter": "python",
   "pygments_lexer": "ipython3",
   "version": "3.9.10"
  }
 },
 "nbformat": 4,
 "nbformat_minor": 5
}
