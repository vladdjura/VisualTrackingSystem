{
 "cells": [
  {
   "cell_type": "markdown",
   "id": "dcc9eeea",
   "metadata": {},
   "source": [
    "# Visual tracking system\n",
    "\n",
    "## 04 Data creation and monitoring"
   ]
  },
  {
   "cell_type": "code",
   "execution_count": 1,
   "id": "ffe5c8b1",
   "metadata": {},
   "outputs": [],
   "source": [
    "import json\n",
    "from models import Video\n",
    "from functions import show, gray, space_nums, space_ids, paths"
   ]
  },
  {
   "cell_type": "markdown",
   "id": "756145bb",
   "metadata": {},
   "source": [
    "### Video instance creation"
   ]
  },
  {
   "cell_type": "code",
   "execution_count": 2,
   "id": "832347ae",
   "metadata": {},
   "outputs": [
    {
     "name": "stdout",
     "output_type": "stream",
     "text": [
      "Number of frames: 613\n",
      "Image path > C:/Users/Vladislav/Desktop/Videos/12_2_2021 10_01_42 AM (UTC-05_00)moving 0007.mov\n"
     ]
    }
   ],
   "source": [
    "# 11 - truck arives\n",
    "# 12 - person \n",
    "# 13 - pickup leaves\n",
    "# 17 - bus leaves\n",
    "video = Video(paths[2])\n",
    "#video.frame = 500\n",
    "video.variance = 1800"
   ]
  },
  {
   "cell_type": "markdown",
   "id": "fdc7f520",
   "metadata": {},
   "source": [
    "### Simulating received requests for parking space tracking"
   ]
  },
  {
   "cell_type": "code",
   "execution_count": 3,
   "id": "9326f70c",
   "metadata": {},
   "outputs": [],
   "source": [
    "from credentials import account_sid, auth_token, my_cell, my_twilio \n",
    "from datetime import datetime\n",
    "import json\n",
    "import requests"
   ]
  },
  {
   "cell_type": "code",
   "execution_count": 5,
   "id": "e336ed0d",
   "metadata": {},
   "outputs": [
    {
     "name": "stdout",
     "output_type": "stream",
     "text": [
      "{'timestamp': [3, 'id_00001']}\n",
      "1800 1708.6970361409021 432\n",
      "Vehicle has left parking space 3, at 11:29:18. \n",
      "Frame 432\n"
     ]
    }
   ],
   "source": [
    "tracker = {'timestamp': [3, 'id_00001']}\n",
    "\n",
    "start = 420\n",
    "stop = 443\n",
    "\n",
    "message = video.tracker(account_sid, auth_token, my_twilio, tracker, start, stop)\n",
    "\n",
    "print(message)\n",
    "\n"
   ]
  },
  {
   "cell_type": "code",
   "execution_count": 5,
   "id": "925fdb5b",
   "metadata": {},
   "outputs": [
    {
     "data": {
      "text/plain": [
       "1"
      ]
     },
     "execution_count": 5,
     "metadata": {},
     "output_type": "execute_result"
    }
   ],
   "source": [
    "video.play\n",
    "video.frame"
   ]
  },
  {
   "cell_type": "markdown",
   "id": "79e75316",
   "metadata": {},
   "source": [
    "### Start writing json"
   ]
  },
  {
   "cell_type": "code",
   "execution_count": null,
   "id": "fe3da8a6",
   "metadata": {},
   "outputs": [],
   "source": [
    "video.write(430,440)"
   ]
  }
 ],
 "metadata": {
  "kernelspec": {
   "display_name": "Python 3 (ipykernel)",
   "language": "python",
   "name": "python3"
  },
  "language_info": {
   "codemirror_mode": {
    "name": "ipython",
    "version": 3
   },
   "file_extension": ".py",
   "mimetype": "text/x-python",
   "name": "python",
   "nbconvert_exporter": "python",
   "pygments_lexer": "ipython3",
   "version": "3.9.10"
  }
 },
 "nbformat": 4,
 "nbformat_minor": 5
}
