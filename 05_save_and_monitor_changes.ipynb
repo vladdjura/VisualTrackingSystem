{
 "cells": [
  {
   "cell_type": "markdown",
   "id": "4a97207c",
   "metadata": {},
   "source": [
    "# Visual tracking system\n",
    "\n",
    "## 05 Data creation and monitoring"
   ]
  },
  {
   "cell_type": "code",
   "execution_count": null,
   "id": "88c1d0a5",
   "metadata": {},
   "outputs": [],
   "source": [
    "import json\n",
    "from models import Video\n",
    "from functions import show, gray, space_nums, space_ids, paths"
   ]
  },
  {
   "cell_type": "markdown",
   "id": "80cf4b00",
   "metadata": {},
   "source": [
    "### Video instance creation"
   ]
  },
  {
   "cell_type": "code",
   "execution_count": null,
   "id": "78a5f616",
   "metadata": {},
   "outputs": [],
   "source": [
    "# 11 - truck arives\n",
    "# 12 - person \n",
    "# 13 - pickup leaves\n",
    "# 17 - bus leaves\n",
    "video = Video(paths[17])\n",
    "#video.frame = 500\n",
    "video.variance = 1800"
   ]
  },
  {
   "cell_type": "markdown",
   "id": "ce7fc000",
   "metadata": {},
   "source": [
    "### Start writing json"
   ]
  },
  {
   "cell_type": "code",
   "execution_count": null,
   "id": "1345263a",
   "metadata": {},
   "outputs": [],
   "source": [
    "video.write(430,440)"
   ]
  }
 ],
 "metadata": {
  "kernelspec": {
   "display_name": "Python 3 (ipykernel)",
   "language": "python",
   "name": "python3"
  },
  "language_info": {
   "codemirror_mode": {
    "name": "ipython",
    "version": 3
   },
   "file_extension": ".py",
   "mimetype": "text/x-python",
   "name": "python",
   "nbconvert_exporter": "python",
   "pygments_lexer": "ipython3",
   "version": "3.9.10"
  }
 },
 "nbformat": 4,
 "nbformat_minor": 5
}
