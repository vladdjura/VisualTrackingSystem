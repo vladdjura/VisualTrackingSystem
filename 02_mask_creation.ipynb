{
 "cells": [
  {
   "cell_type": "markdown",
   "id": "74abb1f6",
   "metadata": {},
   "source": [
    "# Visual tracking system\n",
    "## 02 Creating a parking spaces mask"
   ]
  },
  {
   "cell_type": "markdown",
   "id": "7404b50d",
   "metadata": {},
   "source": [
    "### Imports"
   ]
  },
  {
   "cell_type": "code",
   "execution_count": null,
   "id": "c0946e9c",
   "metadata": {},
   "outputs": [],
   "source": [
    "import numpy as np\n",
    "import sys\n",
    "import pandas as pd\n",
    "import cv2\n",
    "from models import Video\n",
    "import numpy as np\n",
    "from functions import show, liner, extractor, gray, space_nums, space_ids, paths, qualifier, frameByFrame, masker"
   ]
  },
  {
   "cell_type": "markdown",
   "id": "2a9bbf35",
   "metadata": {},
   "source": [
    "### Creating Video instance"
   ]
  },
  {
   "cell_type": "code",
   "execution_count": null,
   "id": "ebccc281",
   "metadata": {},
   "outputs": [],
   "source": [
    "video = Video(paths[0])"
   ]
  },
  {
   "cell_type": "code",
   "execution_count": null,
   "id": "095b51d5",
   "metadata": {},
   "outputs": [],
   "source": [
    "video.frame = 1\n",
    "img = video.read"
   ]
  },
  {
   "cell_type": "markdown",
   "id": "cd4dfcdf",
   "metadata": {},
   "source": [
    "### Parking boundary lines coordinates with rows range for each space"
   ]
  },
  {
   "cell_type": "code",
   "execution_count": null,
   "id": "a61c14d4",
   "metadata": {},
   "outputs": [],
   "source": [
    "\n",
    "bounds = [\n",
    "(620, 580, 522, 797, (588,792)),\n",
    "(716, 584, 624, 828, (588,823)),\n",
    "(830, 588, 760, 860, (588,850)),\n",
    "(958, 588, 933, 882, (588,875)),\n",
    "(1095, 588, 1115, 882, (588,855)),\n",
    "(1224, 590, 1287, 862, (588,837)),\n",
    "(1337, 590, 1427, 837, (588,802)),\n",
    "(1438, 586, 1543, 810, (588,792)),\n",
    "(759, 300, 714, 388, (298,380)),\n",
    "(830, 290, 790, 384, (290,370)),\n",
    "(907, 283, 882, 374, (290,370)),\n",
    "(988, 278, 976, 372, (278,380)),\n",
    "(1074, 278, 1079, 372, (288,370)),\n",
    "(1153, 284, 1173, 376, (298,380)),\n",
    "(1227, 291, 1262, 386, (308,390)),\n",
    "(1300, 300, 1346, 398, (298,380))\n",
    "]\n",
    "# Parking spaces labels\n",
    "labels = [13, 9, 5, 1, 3, 7, 11, None, 14, 10, 6, 2, 4, 8, 12]"
   ]
  },
  {
   "cell_type": "markdown",
   "id": "c09c9bf5",
   "metadata": {},
   "source": [
    "### Method for parking space pixel selection"
   ]
  },
  {
   "cell_type": "code",
   "execution_count": null,
   "id": "a1fb6ef9",
   "metadata": {},
   "outputs": [],
   "source": [
    "def masker(mask, img, frame, space_number, treshs):\n",
    "    cols = img.shape[1]\n",
    "    rows = range(treshs[0], treshs[1])\n",
    "    for row in rows:\n",
    "        color = 'mixed'\n",
    "        switch = 0\n",
    "        for col in range(cols):\n",
    "            if switch == 2:\n",
    "                mask[row,col] = space_number\n",
    "            if np.array_equal(frame[row][col], np.array([0,255,0])):\n",
    "                state = 'green'\n",
    "            else:\n",
    "                state = 'mixed'\n",
    "            if state != color:\n",
    "                switch += 1\n",
    "                color = state\n",
    "            if switch == 3:\n",
    "                break\n",
    "        \n",
    "    return mask"
   ]
  },
  {
   "cell_type": "markdown",
   "id": "03a881df",
   "metadata": {},
   "source": [
    "### Creating complete mask"
   ]
  },
  {
   "cell_type": "code",
   "execution_count": null,
   "id": "6a383dd9",
   "metadata": {},
   "outputs": [],
   "source": [
    "mask = np.zeros((img.shape[0], img.shape[1]))\n",
    "\n",
    "for i in range(15):\n",
    "    if i == 7:\n",
    "        continue\n",
    "    print(f'Space number: {labels[i]}')\n",
    "\n",
    "    frame = img.copy()\n",
    "    x1, y1, x2, y2, treshs = bounds[i]\n",
    "    frame = liner(x1, y1, x2, y2, frame, color = 'g')\n",
    "    x1, y1, x2, y2, _ = bounds[i+1]\n",
    "    frame = liner(x1, y1, x2, y2, frame, color = 'g')\n",
    "    \n",
    "    mask = masker(mask, img, frame, labels[i], treshs)"
   ]
  },
  {
   "cell_type": "markdown",
   "id": "35804355",
   "metadata": {},
   "source": [
    "### Mask saving as .npy file"
   ]
  },
  {
   "cell_type": "code",
   "execution_count": null,
   "id": "a3f728af",
   "metadata": {},
   "outputs": [],
   "source": [
    "with open('mask.npy', 'wb') as f:\n",
    "    np.save(f, mask)"
   ]
  }
 ],
 "metadata": {
  "kernelspec": {
   "display_name": "Python 3 (ipykernel)",
   "language": "python",
   "name": "python3"
  },
  "language_info": {
   "codemirror_mode": {
    "name": "ipython",
    "version": 3
   },
   "file_extension": ".py",
   "mimetype": "text/x-python",
   "name": "python",
   "nbconvert_exporter": "python",
   "pygments_lexer": "ipython3",
   "version": "3.9.10"
  }
 },
 "nbformat": 4,
 "nbformat_minor": 5
}
