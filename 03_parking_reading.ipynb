{
 "cells": [
  {
   "cell_type": "markdown",
   "id": "6e46c056",
   "metadata": {},
   "source": [
    "# Visual tracking system\n",
    "\n",
    "## 03 Reading parking spaces availability"
   ]
  },
  {
   "cell_type": "code",
   "execution_count": 1,
   "id": "d2899364",
   "metadata": {},
   "outputs": [],
   "source": [
    "import numpy as np\n",
    "import sys\n",
    "import pandas as pd\n",
    "import cv2\n",
    "from models import Video\n",
    "from functions import show, gray, space_nums, space_ids, paths\n",
    "import os"
   ]
  },
  {
   "cell_type": "markdown",
   "id": "88314ba8",
   "metadata": {},
   "source": [
    "### Creating Video class instance"
   ]
  },
  {
   "cell_type": "code",
   "execution_count": 5,
   "id": "15c432a2",
   "metadata": {},
   "outputs": [
    {
     "name": "stdout",
     "output_type": "stream",
     "text": [
      "Number of frames: 613\n",
      "Image path > C:/Users/Vladislav/Desktop/Videos/12_2_2021 10_01_42 AM (UTC-05_00)_0068 (Converted).mov\n"
     ]
    }
   ],
   "source": [
    "# 2 - black car leaving at frame 432 from space:3\n",
    "# 11 - bus arives {2:113, 6:120, 10:124}, car passes by - frame - (173 - 178)\n",
    "# 12 - person (frames 190-230) no change\n",
    "# 13 - pickup leaves \n",
    "# 17 - bus leaves\n",
    "video = Video(paths[17])\n",
    "#video.frame = 500\n",
    "#video.variance = 1800"
   ]
  },
  {
   "cell_type": "markdown",
   "id": "1498e2be",
   "metadata": {},
   "source": [
    "### Printing states for the parking space frame by frame"
   ]
  },
  {
   "cell_type": "code",
   "execution_count": 15,
   "id": "07845c8e",
   "metadata": {},
   "outputs": [
    {
     "name": "stdout",
     "output_type": "stream",
     "text": [
      "Change happened from Occupied at frame 574\n",
      "Change array: [1, 1, 1, 1, 1, 1, 0, 0, 0, 0, 0]\n"
     ]
    }
   ],
   "source": [
    "start = 568 #starting frame\n",
    "stop = 579 #last frame\n",
    "change, marks = video.states(start, stop, 10)\n",
    "print(change)\n",
    "print(f'Change array: {marks}')"
   ]
  },
  {
   "cell_type": "markdown",
   "id": "ebe5400f",
   "metadata": {},
   "source": [
    "### Returns image and spaces variances for given frame"
   ]
  },
  {
   "cell_type": "code",
   "execution_count": 7,
   "id": "dbb2e7a4",
   "metadata": {},
   "outputs": [
    {
     "name": "stdout",
     "output_type": "stream",
     "text": [
      "{1: 1, 2: 1, 3: 1, 4: 1, 5: 1, 6: 0, 7: 1, 8: 1, 9: 1, 10: 0, 11: 0, 12: 1, 13: 1, 14: 0}\n"
     ]
    }
   ],
   "source": [
    "video.frame = 570\n",
    "video.show_var"
   ]
  },
  {
   "cell_type": "markdown",
   "id": "b2b2a5e6",
   "metadata": {},
   "source": [
    "### Save parking space variances video (starting_frame -> stoping_frame)"
   ]
  },
  {
   "cell_type": "code",
   "execution_count": null,
   "id": "4d398e83",
   "metadata": {},
   "outputs": [],
   "source": [
    "video.save_video_var('media/pickup_leaving_0.avi', 173, 188)"
   ]
  },
  {
   "cell_type": "markdown",
   "id": "658598d1",
   "metadata": {},
   "source": [
    "### Save parking spaces variances image for given frame"
   ]
  },
  {
   "cell_type": "code",
   "execution_count": 16,
   "id": "10ac4b68",
   "metadata": {},
   "outputs": [],
   "source": [
    "video.frame = 574\n",
    "video.save_var('media/bus_leaving_at10_1.jpg')"
   ]
  },
  {
   "cell_type": "markdown",
   "id": "340b050a",
   "metadata": {},
   "source": [
    "### Show mask"
   ]
  },
  {
   "cell_type": "code",
   "execution_count": null,
   "id": "df9c402f",
   "metadata": {},
   "outputs": [],
   "source": [
    "video.show_mask"
   ]
  },
  {
   "cell_type": "markdown",
   "id": "372b65cb",
   "metadata": {},
   "source": [
    "### Printing state for the parking space for given frame"
   ]
  },
  {
   "cell_type": "code",
   "execution_count": null,
   "id": "22044e9f",
   "metadata": {},
   "outputs": [],
   "source": [
    "# Video.state(frame_number, space_number)\n",
    "video.state(435, 1)"
   ]
  }
 ],
 "metadata": {
  "kernelspec": {
   "display_name": "Python 3 (ipykernel)",
   "language": "python",
   "name": "python3"
  },
  "language_info": {
   "codemirror_mode": {
    "name": "ipython",
    "version": 3
   },
   "file_extension": ".py",
   "mimetype": "text/x-python",
   "name": "python",
   "nbconvert_exporter": "python",
   "pygments_lexer": "ipython3",
   "version": "3.9.10"
  }
 },
 "nbformat": 4,
 "nbformat_minor": 5
}
