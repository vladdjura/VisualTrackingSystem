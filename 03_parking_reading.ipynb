{
 "cells": [
  {
   "cell_type": "markdown",
   "id": "6e46c056",
   "metadata": {},
   "source": [
    "# Visual tracking system\n",
    "\n",
    "## 03 Reading parking spaces availability"
   ]
  },
  {
   "cell_type": "code",
   "execution_count": 1,
   "id": "d2899364",
   "metadata": {},
   "outputs": [],
   "source": [
    "import numpy as np\n",
    "import sys\n",
    "import pandas as pd\n",
    "import cv2\n",
    "from models import Video\n",
    "from functions import show, gray, space_nums, space_ids, paths\n",
    "import os"
   ]
  },
  {
   "cell_type": "markdown",
   "id": "88314ba8",
   "metadata": {},
   "source": [
    "### Creating Video class instance"
   ]
  },
  {
   "cell_type": "code",
   "execution_count": 2,
   "id": "15c432a2",
   "metadata": {},
   "outputs": [
    {
     "name": "stdout",
     "output_type": "stream",
     "text": [
      "Number of frames: 613\n",
      "Image path > C:/Users/Vladislav/Desktop/Videos/12_2_2021 10_01_42 AM (UTC-05_00)_0049 (Converted).mov\n"
     ]
    }
   ],
   "source": [
    "# 11 - truck arives\n",
    "video = Video(paths[11])\n",
    "#video.frame = 500"
   ]
  },
  {
   "cell_type": "markdown",
   "id": "340b050a",
   "metadata": {},
   "source": [
    "### Show mask"
   ]
  },
  {
   "cell_type": "code",
   "execution_count": null,
   "id": "df9c402f",
   "metadata": {},
   "outputs": [],
   "source": [
    "video.show_mask"
   ]
  },
  {
   "cell_type": "markdown",
   "id": "bf6d88a8",
   "metadata": {},
   "source": [
    "### Saving mask image"
   ]
  },
  {
   "cell_type": "code",
   "execution_count": null,
   "id": "5f5af27f",
   "metadata": {},
   "outputs": [],
   "source": [
    "#video.save_mask('media/mask.jpg')"
   ]
  },
  {
   "cell_type": "markdown",
   "id": "6e570759",
   "metadata": {},
   "source": [
    "### Showing parking space id's"
   ]
  },
  {
   "cell_type": "code",
   "execution_count": null,
   "id": "cfcdb750",
   "metadata": {},
   "outputs": [],
   "source": [
    "video.ids"
   ]
  },
  {
   "cell_type": "markdown",
   "id": "b6732519",
   "metadata": {},
   "source": [
    "### Saving parking spaces variances image"
   ]
  },
  {
   "cell_type": "code",
   "execution_count": null,
   "id": "45d26273",
   "metadata": {},
   "outputs": [],
   "source": [
    "video.save_var('media/variances_2.jpg')"
   ]
  },
  {
   "cell_type": "markdown",
   "id": "59db4469",
   "metadata": {},
   "source": [
    "### Returns spaces variances"
   ]
  },
  {
   "cell_type": "code",
   "execution_count": null,
   "id": "64829a94",
   "metadata": {
    "scrolled": true
   },
   "outputs": [],
   "source": [
    "video.show_var"
   ]
  },
  {
   "cell_type": "markdown",
   "id": "aa0dff52",
   "metadata": {},
   "source": [
    "### Saving parking space variances video"
   ]
  },
  {
   "cell_type": "code",
   "execution_count": 3,
   "id": "a3962e7a",
   "metadata": {
    "collapsed": true
   },
   "outputs": [
    {
     "name": "stdout",
     "output_type": "stream",
     "text": [
      "frame 95/35\n",
      "frame 96/35\n",
      "frame 97/35\n",
      "frame 98/35\n",
      "frame 99/35\n",
      "frame 100/35\n",
      "frame 101/35\n",
      "frame 102/35\n",
      "frame 103/35\n",
      "frame 104/35\n",
      "frame 105/35\n",
      "frame 106/35\n",
      "frame 107/35\n",
      "frame 108/35\n",
      "frame 109/35\n",
      "frame 110/35\n",
      "frame 111/35\n",
      "frame 112/35\n",
      "frame 113/35\n",
      "frame 114/35\n",
      "frame 115/35\n",
      "frame 116/35\n",
      "frame 117/35\n",
      "frame 118/35\n",
      "frame 119/35\n",
      "frame 120/35\n",
      "frame 121/35\n",
      "frame 122/35\n",
      "frame 123/35\n",
      "frame 124/35\n",
      "frame 125/35\n",
      "frame 126/35\n",
      "frame 127/35\n",
      "frame 128/35\n",
      "frame 129/35\n"
     ]
    }
   ],
   "source": [
    "video.save_video_var('media/variances_4.avi', 95, 130)"
   ]
  },
  {
   "cell_type": "markdown",
   "id": "372b65cb",
   "metadata": {},
   "source": [
    "### Printing state for the parking space for given frame"
   ]
  },
  {
   "cell_type": "code",
   "execution_count": null,
   "id": "22044e9f",
   "metadata": {},
   "outputs": [],
   "source": [
    "# Video.state(frame_number, spaces_mask, space_number)\n",
    "video.state(435, 1)"
   ]
  },
  {
   "cell_type": "markdown",
   "id": "8ef81a17",
   "metadata": {},
   "source": [
    "### Create image with added space availability text"
   ]
  },
  {
   "cell_type": "code",
   "execution_count": null,
   "id": "f6fd2630",
   "metadata": {},
   "outputs": [],
   "source": [
    "# Video.img_texter(frame_number, spaces_mask, saving_file_path, space_number)\n",
    "video.img_texter(435, 'img_unoccupied.jpg', 1)"
   ]
  },
  {
   "cell_type": "markdown",
   "id": "ca7d8b6d",
   "metadata": {},
   "source": [
    "### Printing states for the parking space frame by frame"
   ]
  },
  {
   "cell_type": "code",
   "execution_count": null,
   "id": "794d13df",
   "metadata": {},
   "outputs": [],
   "source": [
    "# Video.texter(starting_frame, stoping_frame, spaces_mask, space_number)\n",
    "start = 105\n",
    "stop = 120\n",
    "change, marks = video.states(start, stop, 2)\n",
    "print(change)\n",
    "print(f'Change array: {marks}')"
   ]
  },
  {
   "cell_type": "markdown",
   "id": "bc85d7ab",
   "metadata": {},
   "source": [
    "### Creating video copy with added space availability text"
   ]
  },
  {
   "cell_type": "code",
   "execution_count": null,
   "id": "9c19ff2e",
   "metadata": {},
   "outputs": [],
   "source": [
    "# Video.texter(starting_frame, stoping_frame, spaces_maskn, saving_file_path, space_number)\n",
    "start = 430\n",
    "stop = 438\n",
    "change = video.texter(430, 438, 'video_change_detection.avi', 1)\n",
    "print(change)"
   ]
  },
  {
   "cell_type": "markdown",
   "id": "99f29fd6",
   "metadata": {},
   "source": [
    "### Playing video"
   ]
  },
  {
   "cell_type": "code",
   "execution_count": null,
   "id": "c27bafce",
   "metadata": {},
   "outputs": [],
   "source": [
    "video.play"
   ]
  }
 ],
 "metadata": {
  "kernelspec": {
   "display_name": "Python 3 (ipykernel)",
   "language": "python",
   "name": "python3"
  },
  "language_info": {
   "codemirror_mode": {
    "name": "ipython",
    "version": 3
   },
   "file_extension": ".py",
   "mimetype": "text/x-python",
   "name": "python",
   "nbconvert_exporter": "python",
   "pygments_lexer": "ipython3",
   "version": "3.9.10"
  }
 },
 "nbformat": 4,
 "nbformat_minor": 5
}
