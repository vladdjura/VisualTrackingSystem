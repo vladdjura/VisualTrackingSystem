{
 "cells": [
  {
   "cell_type": "markdown",
   "id": "6e46c056",
   "metadata": {},
   "source": [
    "# Visual tracking system\n",
    "\n",
    "## 03 Reading parking spaces availability"
   ]
  },
  {
   "cell_type": "code",
   "execution_count": 1,
   "id": "d2899364",
   "metadata": {},
   "outputs": [],
   "source": [
    "import numpy as np\n",
    "import sys\n",
    "import pandas as pd\n",
    "import cv2\n",
    "from models import Video\n",
    "from functions import show, gray, space_nums, space_ids, paths\n",
    "import os"
   ]
  },
  {
   "cell_type": "markdown",
   "id": "88314ba8",
   "metadata": {},
   "source": [
    "### Creating Video class instance"
   ]
  },
  {
   "cell_type": "code",
   "execution_count": 22,
   "id": "15c432a2",
   "metadata": {},
   "outputs": [
    {
     "name": "stdout",
     "output_type": "stream",
     "text": [
      "Number of frames: 613\n",
      "Image path > C:/Users/Vladislav/Desktop/Videos/12_2_2021 10_01_42 AM (UTC-05_00)_0068 (Converted).mov\n"
     ]
    }
   ],
   "source": [
    "# 11 - bus arives\n",
    "# 12 - person \n",
    "# 13 - pickup leaves\n",
    "# 17 - bus leaves\n",
    "video = Video(paths[17])\n",
    "#video.frame = 500\n",
    "video.variance = 1800"
   ]
  },
  {
   "cell_type": "markdown",
   "id": "1498e2be",
   "metadata": {},
   "source": [
    "### Printing states for the parking space frame by frame"
   ]
  },
  {
   "cell_type": "code",
   "execution_count": null,
   "id": "07845c8e",
   "metadata": {},
   "outputs": [],
   "source": [
    "# Video.texter(starting_frame, stoping_frame, spaces_mask, space_number)\n",
    "start = 280\n",
    "stop = 340\n",
    "change, marks = video.states(start, stop, 9)\n",
    "print(change)\n",
    "print(f'Change array: {marks}')"
   ]
  },
  {
   "cell_type": "markdown",
   "id": "ebe5400f",
   "metadata": {},
   "source": [
    "### Returns image and spaces variances for given frame"
   ]
  },
  {
   "cell_type": "code",
   "execution_count": 23,
   "id": "dbb2e7a4",
   "metadata": {},
   "outputs": [
    {
     "name": "stdout",
     "output_type": "stream",
     "text": [
      "{1: 1, 2: 0, 3: 1, 4: 1, 5: 1, 6: 0, 7: 1, 8: 1, 9: 1, 10: 0, 11: 0, 12: 1, 13: 1, 14: 1}\n"
     ]
    }
   ],
   "source": [
    "#video.frame = 1\n",
    "video.show_var"
   ]
  },
  {
   "cell_type": "markdown",
   "id": "b2b2a5e6",
   "metadata": {},
   "source": [
    "### Save parking space variances video (starting_frame -> stoping_frame)"
   ]
  },
  {
   "cell_type": "code",
   "execution_count": null,
   "id": "4d398e83",
   "metadata": {},
   "outputs": [],
   "source": [
    "video.save_video_var('media/variances_7.avi', 560, 590)"
   ]
  },
  {
   "cell_type": "markdown",
   "id": "658598d1",
   "metadata": {},
   "source": [
    "### Save parking spaces variances image for given frame"
   ]
  },
  {
   "cell_type": "code",
   "execution_count": null,
   "id": "10ac4b68",
   "metadata": {},
   "outputs": [],
   "source": [
    "#video.frame = 1\n",
    "video.save_var('media/variances_2.jpg')"
   ]
  },
  {
   "cell_type": "markdown",
   "id": "340b050a",
   "metadata": {},
   "source": [
    "### Show mask"
   ]
  },
  {
   "cell_type": "code",
   "execution_count": 14,
   "id": "df9c402f",
   "metadata": {},
   "outputs": [],
   "source": [
    "video.show_mask"
   ]
  },
  {
   "cell_type": "markdown",
   "id": "372b65cb",
   "metadata": {},
   "source": [
    "### Printing state for the parking space for given frame"
   ]
  },
  {
   "cell_type": "code",
   "execution_count": 19,
   "id": "22044e9f",
   "metadata": {},
   "outputs": [
    {
     "name": "stdout",
     "output_type": "stream",
     "text": [
      "Space is unoccupied\n"
     ]
    }
   ],
   "source": [
    "# Video.state(frame_number, space_number)\n",
    "video.state(435, 1)"
   ]
  }
 ],
 "metadata": {
  "kernelspec": {
   "display_name": "Python 3 (ipykernel)",
   "language": "python",
   "name": "python3"
  },
  "language_info": {
   "codemirror_mode": {
    "name": "ipython",
    "version": 3
   },
   "file_extension": ".py",
   "mimetype": "text/x-python",
   "name": "python",
   "nbconvert_exporter": "python",
   "pygments_lexer": "ipython3",
   "version": "3.9.10"
  }
 },
 "nbformat": 4,
 "nbformat_minor": 5
}
