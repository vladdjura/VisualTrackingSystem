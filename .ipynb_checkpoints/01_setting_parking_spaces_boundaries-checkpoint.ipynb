{
 "cells": [
  {
   "cell_type": "markdown",
   "id": "a09af718",
   "metadata": {},
   "source": [
    "# Visual tracking system\n",
    "\n",
    "## 01 Setting parking spaces boundaries"
   ]
  },
  {
   "cell_type": "markdown",
   "id": "5990c7eb",
   "metadata": {},
   "source": [
    "### Imports"
   ]
  },
  {
   "cell_type": "code",
   "execution_count": 1,
   "id": "e197a3d8",
   "metadata": {},
   "outputs": [],
   "source": [
    "from models import Video\n",
    "from functions import show, liner, paths, save"
   ]
  },
  {
   "cell_type": "code",
   "execution_count": 2,
   "id": "876b230c",
   "metadata": {},
   "outputs": [
    {
     "name": "stdout",
     "output_type": "stream",
     "text": [
      "Number of frames: 613\n"
     ]
    }
   ],
   "source": [
    "video = Video(paths[1])"
   ]
  },
  {
   "cell_type": "code",
   "execution_count": 3,
   "id": "7316eae1",
   "metadata": {},
   "outputs": [],
   "source": [
    "video.frame = 1\n",
    "img = video.read\n",
    "frame = img.copy()\n",
    "\n",
    "# horizontal red lines\n",
    "# frame = liner(0, 588, 2024, 588, frame, color = 'r', size = 2)\n",
    "# frame = liner(0, 882, 2024, 882, frame, color = 'r', size = 2)\n",
    "# frame = liner(0, 278, 2024, 278, frame, color = 'r', size = 2)\n",
    "# frame = liner(0, 390, 2024, 390, frame, color = 'r', size = 2)\n",
    "\n",
    "# vertical green lines\n",
    "\n",
    "# front row\n",
    "\n",
    "# frame = liner(344, 580, 265, 687, frame, color = 'g', size = 3)\n",
    "# frame = liner(384, 576, 298, 703, frame, color = 'g', size = 3)\n",
    "# frame = liner(424, 578, 334, 721, frame, color = 'g', size = 3)\n",
    "# frame = liner(480, 580, 388, 739, frame, color = 'g', size = 3)\n",
    "# frame = liner(540, 580, 442, 765, frame, color = 'g', size = 4)\n",
    "\n",
    "frame = liner(620, 580, 522, 797, frame, color = 'g')\n",
    "frame = liner(716, 584, 624, 828, frame, color = 'g')\n",
    "frame = liner(830, 588, 760, 860, frame, color = 'g')\n",
    "frame = liner(958, 588, 933, 882, frame, color = 'g')\n",
    "frame = liner(1095, 588, 1115, 882, frame, color = 'g')\n",
    "frame = liner(1224, 590, 1287, 862, frame, color = 'g')\n",
    "frame = liner(1337, 590, 1427, 837, frame, color = 'g')\n",
    "frame = liner(1438, 586, 1543, 810, frame, color = 'g')\n",
    "\n",
    "# frame = liner(1521, 592, 1621, 780, frame, color = 'g', size = 3)\n",
    "# frame = liner(1584, 588, 1685, 753, frame, color = 'g', size = 2)\n",
    "# frame = liner(1633, 586, 1731, 735, frame, color = 'g', size = 2)\n",
    "# frame = liner(1674, 584, 1763, 715, frame, color = 'g', size = 2)\n",
    "# frame = liner(1714, 582, 1803, 706, frame, color = 'g', size = 2)\n",
    "\n",
    "# back row\n",
    "frame = liner(759, 300, 714, 388, frame, color = 'g', size = 3)\n",
    "frame = liner(830, 290, 790, 384, frame, color = 'g', size = 3)\n",
    "frame = liner(907, 283, 882, 374, frame, color = 'g', size = 3)\n",
    "frame = liner(988, 278, 976, 372, frame, color = 'g', size = 3)\n",
    "frame = liner(1074, 278, 1079, 372, frame, color = 'g', size = 3)\n",
    "frame = liner(1153, 284, 1173, 376, frame, color = 'g', size = 3)\n",
    "frame = liner(1227, 291, 1262, 386, frame, color = 'g', size = 3)\n",
    "frame = liner(1300, 300, 1346, 398, frame, color = 'g', size = 3)\n",
    "\n",
    "show(frame)"
   ]
  },
  {
   "cell_type": "code",
   "execution_count": null,
   "id": "0f044b25",
   "metadata": {},
   "outputs": [],
   "source": [
    "save('data/boundaries.jpg', frame)"
   ]
  }
 ],
 "metadata": {
  "kernelspec": {
   "display_name": "Python 3 (ipykernel)",
   "language": "python",
   "name": "python3"
  },
  "language_info": {
   "codemirror_mode": {
    "name": "ipython",
    "version": 3
   },
   "file_extension": ".py",
   "mimetype": "text/x-python",
   "name": "python",
   "nbconvert_exporter": "python",
   "pygments_lexer": "ipython3",
   "version": "3.9.10"
  }
 },
 "nbformat": 4,
 "nbformat_minor": 5
}
